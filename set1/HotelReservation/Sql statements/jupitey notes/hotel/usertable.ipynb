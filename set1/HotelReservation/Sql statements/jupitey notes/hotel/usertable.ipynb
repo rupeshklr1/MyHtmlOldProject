{
    "metadata": {
        "kernelspec": {
            "name": "SQL",
            "display_name": "SQL",
            "language": "sql"
        },
        "language_info": {
            "name": "sql",
            "version": ""
        }
    },
    "nbformat_minor": 2,
    "nbformat": 4,
    "cells": [
        {
            "cell_type": "code",
            "source": [
                "select * from  klr.Userlist where userEmail= 'rup1@gamil.com'\r\n",
                ""
            ],
            "metadata": {
                "azdata_cell_guid": "580d6be7-2067-48d3-88bf-33aa8b56e9c8",
                "language": "sql"
            },
            "outputs": [
                {
                    "output_type": "display_data",
                    "data": {
                        "text/html": "(0 rows affected)"
                    },
                    "metadata": {}
                },
                {
                    "output_type": "display_data",
                    "data": {
                        "text/html": "Total execution time: 00:00:00.003"
                    },
                    "metadata": {}
                },
                {
                    "output_type": "execute_result",
                    "metadata": {},
                    "execution_count": 2,
                    "data": {
                        "application/vnd.dataresource+json": {
                            "schema": {
                                "fields": [
                                    {
                                        "name": "id"
                                    },
                                    {
                                        "name": "userName"
                                    },
                                    {
                                        "name": "userEmail"
                                    },
                                    {
                                        "name": "userPhoneNo"
                                    },
                                    {
                                        "name": "userPassword"
                                    },
                                    {
                                        "name": "SecertKey"
                                    },
                                    {
                                        "name": "photoRef"
                                    },
                                    {
                                        "name": "Requested"
                                    },
                                    {
                                        "name": "apporvalmsg"
                                    },
                                    {
                                        "name": "TypesMembership"
                                    },
                                    {
                                        "name": "isDelete"
                                    },
                                    {
                                        "name": "Lastmodified"
                                    },
                                    {
                                        "name": "LastmodifiedBy"
                                    }
                                ]
                            },
                            "data": []
                        },
                        "text/html": [
                            "<table>",
                            "<tr><th>id</th><th>userName</th><th>userEmail</th><th>userPhoneNo</th><th>userPassword</th><th>SecertKey</th><th>photoRef</th><th>Requested</th><th>apporvalmsg</th><th>TypesMembership</th><th>isDelete</th><th>Lastmodified</th><th>LastmodifiedBy</th></tr>",
                            "</table>"
                        ]
                    }
                }
            ],
            "execution_count": 2
        },
        {
            "cell_type": "code",
            "source": [
                "select userEmail from klr.Userlist where isDelete=0"
            ],
            "metadata": {
                "azdata_cell_guid": "0432e973-6bc8-44d1-a032-3bd1a6693cbf",
                "language": "sql"
            },
            "outputs": [
{
    "output_type": "display_data",
    "data": {
        "text/html": "(11 rows affected)"
    },
    "metadata": {}
}, {
    "output_type": "display_data",
    "data": {
        "text/html": "Total execution time: 00:00:00.065"
    },
    "metadata": {}
}, {
    "output_type": "execute_result",
    "metadata": {},
    "execution_count": 6,
    "data": {
        "application/vnd.dataresource+json": {
            "schema": {
                "fields": [
                    {
                        "name": "userEmail"
                    }
                ]
            },
            "data": [
                {
                    "userEmail": "rup0@datazoic.com"
                },
                {
                    "userEmail": "rup1@datazoic.com"
                },
                {
                    "userEmail": "rupco@datazoic.com"
                },
                {
                    "userEmail": "rupco@datazoic.com"
                },
                {
                    "userEmail": "rupco@datazoic.com"
                },
                {
                    "userEmail": "rupa@datazoic.com"
                },
                {
                    "userEmail": "rup0@datazoic.com"
                },
                {
                    "userEmail": "rup1@datazoic.com"
                },
                {
                    "userEmail": "rup2@datazoic.com"
                },
                {
                    "userEmail": "rup1@gamil.com"
                },
                {
                    "userEmail": "rup123@gamil.com"
                }
            ]
        },
        "text/html": [
            "<table>",
            "<tr><th>userEmail</th></tr>",
            "<tr><td>rup0@datazoic.com</td></tr>",
            "<tr><td>rup1@datazoic.com</td></tr>",
            "<tr><td>rupco@datazoic.com</td></tr>",
            "<tr><td>rupco@datazoic.com</td></tr>",
            "<tr><td>rupco@datazoic.com</td></tr>",
            "<tr><td>rupa@datazoic.com</td></tr>",
            "<tr><td>rup0@datazoic.com</td></tr>",
            "<tr><td>rup1@datazoic.com</td></tr>",
            "<tr><td>rup2@datazoic.com</td></tr>",
            "<tr><td>rup1@gamil.com</td></tr>",
            "<tr><td>rup123@gamil.com</td></tr>",
            "</table>"
        ]
    }
}
],
            "execution_count": 6
        }
    ]
}