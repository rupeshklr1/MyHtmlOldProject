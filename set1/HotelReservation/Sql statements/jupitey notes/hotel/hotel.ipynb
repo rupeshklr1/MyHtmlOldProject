{
    "metadata": {
        "kernelspec": {
            "name": "SQL",
            "display_name": "SQL",
            "language": "sql"
        },
        "language_info": {
            "name": "sql",
            "version": ""
        }
    },
    "nbformat_minor": 2,
    "nbformat": 4,
    "cells": [
        {
            "cell_type": "code",
            "source": [
                "select * from klr.Hotels WHERE Htisdeleted=0"
            ],
            "metadata": {
                "azdata_cell_guid": "ea47e559-6fa0-4320-a51c-b00e0c763fa2",
                "language": "sql"
            },
            "outputs": [
                {
                    "output_type": "display_data",
                    "data": {
                        "text/html": "(9 rows affected)"
                    },
                    "metadata": {}
                },
                {
                    "output_type": "display_data",
                    "data": {
                        "text/html": "Total execution time: 00:00:00.686"
                    },
                    "metadata": {}
                },
                {
                    "output_type": "execute_result",
                    "metadata": {},
                    "execution_count": 1,
                    "data": {
                        "application/vnd.dataresource+json": {
                            "schema": {
                                "fields": [
                                    {
                                        "name": "Hotelid"
                                    },
                                    {
                                        "name": "id"
                                    },
                                    {
                                        "name": "HostelName"
                                    },
                                    {
                                        "name": "HotelAddress"
                                    },
                                    {
                                        "name": "HotelNumber"
                                    },
                                    {
                                        "name": "HotelDesc"
                                    },
                                    {
                                        "name": "Htimage"
                                    },
                                    {
                                        "name": "Rating"
                                    },
                                    {
                                        "name": "HotelLocation"
                                    },
                                    {
                                        "name": "StaringPr"
                                    },
                                    {
                                        "name": "EndPr"
                                    },
                                    {
                                        "name": "HTstatus"
                                    },
                                    {
                                        "name": "statusmsg"
                                    },
                                    {
                                        "name": "Htisdeleted"
                                    },
                                    {
                                        "name": "LastmodifiedHT"
                                    },
                                    {
                                        "name": "LastmodifiedByHT"
                                    }
                                ]
                            },
                            "data": [
                                {
                                    "Hotelid": "1",
                                    "id": "1001",
                                    "HostelName": "Malika",
                                    "HotelAddress": "6.no.door,pergudi,chennai(600512)",
                                    "HotelNumber": "9898987654",
                                    "HotelDesc": "this located in chennai",
                                    "Htimage": "hotel1Roundcurvl.jpg",
                                    "Rating": "5",
                                    "HotelLocation": "chennai",
                                    "StaringPr": "750.8",
                                    "EndPr": "1700.8",
                                    "HTstatus": "0",
                                    "statusmsg": "NTH",
                                    "Htisdeleted": "0",
                                    "LastmodifiedHT": "2023-07-27",
                                    "LastmodifiedByHT": "admin"
                                },
                                {
                                    "Hotelid": "2",
                                    "id": "1001",
                                    "HostelName": "kings",
                                    "HotelAddress": "666.no.door,pergudi,chennai(600512)",
                                    "HotelNumber": "9898987654",
                                    "HotelDesc": "this located in chennai",
                                    "Htimage": "hotel2island.jpg",
                                    "Rating": "5",
                                    "HotelLocation": "chennai",
                                    "StaringPr": "750.8",
                                    "EndPr": "1500.8",
                                    "HTstatus": "0",
                                    "statusmsg": "NTH",
                                    "Htisdeleted": "0",
                                    "LastmodifiedHT": "2023-07-27",
                                    "LastmodifiedByHT": "admin"
                                },
                                {
                                    "Hotelid": "3",
                                    "id": "1002",
                                    "HostelName": "prabha grand inn",
                                    "HotelAddress": "6.no.door,pergudi,chittoor(517001)",
                                    "HotelNumber": "9898987654",
                                    "HotelDesc": "this located in chittoor",
                                    "Htimage": "hotel3publicmodel.jpg",
                                    "Rating": "5",
                                    "HotelLocation": "chittoor",
                                    "StaringPr": "1500.8",
                                    "EndPr": "1700.8",
                                    "HTstatus": "0",
                                    "statusmsg": "NTH",
                                    "Htisdeleted": "0",
                                    "LastmodifiedHT": "2023-07-27",
                                    "LastmodifiedByHT": "admin"
                                },
                                {
                                    "Hotelid": "4",
                                    "id": "1003",
                                    "HostelName": "gem minners",
                                    "HotelAddress": "06\\8.no.door,pergudi,tirupati(512892)",
                                    "HotelNumber": "9898987654",
                                    "HotelDesc": "this located in tirupati",
                                    "Htimage": "hotel4costtly.jpg",
                                    "Rating": "5",
                                    "HotelLocation": "tirupati",
                                    "StaringPr": "1500.8",
                                    "EndPr": "1700.8",
                                    "HTstatus": "0",
                                    "statusmsg": "NTH",
                                    "Htisdeleted": "0",
                                    "LastmodifiedHT": "2023-07-27",
                                    "LastmodifiedByHT": "admin"
                                },
                                {
                                    "Hotelid": "5",
                                    "id": "1003",
                                    "HostelName": "gem beggers",
                                    "HotelAddress": "99.no.door,pergudi,tirupati(512892)",
                                    "HotelNumber": "9898987654",
                                    "HotelDesc": "this located in tirupati",
                                    "Htimage": "hotel5royal.jpg",
                                    "Rating": "5",
                                    "HotelLocation": "tirupati",
                                    "StaringPr": "1500.8",
                                    "EndPr": "1700.8",
                                    "HTstatus": "0",
                                    "statusmsg": "NTH",
                                    "Htisdeleted": "0",
                                    "LastmodifiedHT": "2023-07-27",
                                    "LastmodifiedByHT": "admin"
                                },
                                {
                                    "Hotelid": "6",
                                    "id": "1005",
                                    "HostelName": "golden hotel",
                                    "HotelAddress": "6.no.door,pergudi,chennai(600512)",
                                    "HotelNumber": "9898987654",
                                    "HotelDesc": "this located in chennai",
                                    "Htimage": "hotel6swingpool.jpg",
                                    "Rating": "5",
                                    "HotelLocation": "chennai",
                                    "StaringPr": "1500.8",
                                    "EndPr": "1700.8",
                                    "HTstatus": "0",
                                    "statusmsg": "NTH",
                                    "Htisdeleted": "0",
                                    "LastmodifiedHT": "2023-07-27",
                                    "LastmodifiedByHT": "admin"
                                },
                                {
                                    "Hotelid": "7",
                                    "id": "1006",
                                    "HostelName": "Mui000",
                                    "HotelAddress": "16-67/5.no.door,pergudi,chennai(600512)",
                                    "HotelNumber": "9898987654",
                                    "HotelDesc": "this located in chennai",
                                    "Htimage": "hotel7_4blocks.jpg",
                                    "Rating": "5",
                                    "HotelLocation": "chennai",
                                    "StaringPr": "750.8",
                                    "EndPr": "1700.8",
                                    "HTstatus": "0",
                                    "statusmsg": "NTH",
                                    "Htisdeleted": "0",
                                    "LastmodifiedHT": "2023-07-27",
                                    "LastmodifiedByHT": "admin"
                                },
                                {
                                    "Hotelid": "8",
                                    "id": "1006",
                                    "HostelName": "goodness",
                                    "HotelAddress": "17-89/3,door,pergudi,tirupati(600512)",
                                    "HotelNumber": "9898987654",
                                    "HotelDesc": "this located in tirupati",
                                    "Htimage": "hotel1Roundcurvl.jpg",
                                    "Rating": "5",
                                    "HotelLocation": "tirupati",
                                    "StaringPr": "750.8",
                                    "EndPr": "1500.8",
                                    "HTstatus": "0",
                                    "statusmsg": "NTH",
                                    "Htisdeleted": "0",
                                    "LastmodifiedHT": "2023-07-27",
                                    "LastmodifiedByHT": "admin"
                                },
                                {
                                    "Hotelid": "9",
                                    "id": "1006",
                                    "HostelName": "lovers flyer",
                                    "HotelAddress": "76.no.door,pergudi,chittoor(600512)",
                                    "HotelNumber": "9898987654",
                                    "HotelDesc": "this located in chittoor",
                                    "Htimage": "hotel4costtly.jpg",
                                    "Rating": "5",
                                    "HotelLocation": "chittoor",
                                    "StaringPr": "1500.8",
                                    "EndPr": "1500.8",
                                    "HTstatus": "0",
                                    "statusmsg": "NTH",
                                    "Htisdeleted": "0",
                                    "LastmodifiedHT": "2023-07-27",
                                    "LastmodifiedByHT": "admin"
                                }
                            ]
                        },
                        "text/html": [
                            "<table>",
                            "<tr><th>Hotelid</th><th>id</th><th>HostelName</th><th>HotelAddress</th><th>HotelNumber</th><th>HotelDesc</th><th>Htimage</th><th>Rating</th><th>HotelLocation</th><th>StaringPr</th><th>EndPr</th><th>HTstatus</th><th>statusmsg</th><th>Htisdeleted</th><th>LastmodifiedHT</th><th>LastmodifiedByHT</th></tr>",
                            "<tr><td>1</td><td>1001</td><td>Malika</td><td>6.no.door,pergudi,chennai(600512)</td><td>9898987654</td><td>this located in chennai</td><td>hotel1Roundcurvl.jpg</td><td>5</td><td>chennai</td><td>750.8</td><td>1700.8</td><td>0</td><td>NTH</td><td>0</td><td>2023-07-27</td><td>admin</td></tr>",
                            "<tr><td>2</td><td>1001</td><td>kings</td><td>666.no.door,pergudi,chennai(600512)</td><td>9898987654</td><td>this located in chennai</td><td>hotel2island.jpg</td><td>5</td><td>chennai</td><td>750.8</td><td>1500.8</td><td>0</td><td>NTH</td><td>0</td><td>2023-07-27</td><td>admin</td></tr>",
                            "<tr><td>3</td><td>1002</td><td>prabha grand inn</td><td>6.no.door,pergudi,chittoor(517001)</td><td>9898987654</td><td>this located in chittoor</td><td>hotel3publicmodel.jpg</td><td>5</td><td>chittoor</td><td>1500.8</td><td>1700.8</td><td>0</td><td>NTH</td><td>0</td><td>2023-07-27</td><td>admin</td></tr>",
                            "<tr><td>4</td><td>1003</td><td>gem minners</td><td>06\\8.no.door,pergudi,tirupati(512892)</td><td>9898987654</td><td>this located in tirupati</td><td>hotel4costtly.jpg</td><td>5</td><td>tirupati</td><td>1500.8</td><td>1700.8</td><td>0</td><td>NTH</td><td>0</td><td>2023-07-27</td><td>admin</td></tr>",
                            "<tr><td>5</td><td>1003</td><td>gem beggers</td><td>99.no.door,pergudi,tirupati(512892)</td><td>9898987654</td><td>this located in tirupati</td><td>hotel5royal.jpg</td><td>5</td><td>tirupati</td><td>1500.8</td><td>1700.8</td><td>0</td><td>NTH</td><td>0</td><td>2023-07-27</td><td>admin</td></tr>",
                            "<tr><td>6</td><td>1005</td><td>golden hotel</td><td>6.no.door,pergudi,chennai(600512)</td><td>9898987654</td><td>this located in chennai</td><td>hotel6swingpool.jpg</td><td>5</td><td>chennai</td><td>1500.8</td><td>1700.8</td><td>0</td><td>NTH</td><td>0</td><td>2023-07-27</td><td>admin</td></tr>",
                            "<tr><td>7</td><td>1006</td><td>Mui000</td><td>16-67/5.no.door,pergudi,chennai(600512)</td><td>9898987654</td><td>this located in chennai</td><td>hotel7_4blocks.jpg</td><td>5</td><td>chennai</td><td>750.8</td><td>1700.8</td><td>0</td><td>NTH</td><td>0</td><td>2023-07-27</td><td>admin</td></tr>",
                            "<tr><td>8</td><td>1006</td><td>goodness</td><td>17-89/3,door,pergudi,tirupati(600512)</td><td>9898987654</td><td>this located in tirupati</td><td>hotel1Roundcurvl.jpg</td><td>5</td><td>tirupati</td><td>750.8</td><td>1500.8</td><td>0</td><td>NTH</td><td>0</td><td>2023-07-27</td><td>admin</td></tr>",
                            "<tr><td>9</td><td>1006</td><td>lovers flyer</td><td>76.no.door,pergudi,chittoor(600512)</td><td>9898987654</td><td>this located in chittoor</td><td>hotel4costtly.jpg</td><td>5</td><td>chittoor</td><td>1500.8</td><td>1500.8</td><td>0</td><td>NTH</td><td>0</td><td>2023-07-27</td><td>admin</td></tr>",
                            "</table>"
                        ]
                    }
                }
            ],
            "execution_count": 1
        },
        {
            "cell_type": "code",
            "source": [
                "select top(3)* from klr.Hotels WHERE Htisdeleted=0  and rating=5 ORDER by StaringPr ASC"
            ],
            "metadata": {
                "language": "sql",
                "azdata_cell_guid": "e07fb068-9749-4983-8dd2-cab0b0313ed2"
            },
            "outputs": [
{
    "output_type": "display_data",
    "data": {
        "text/html": "(3 rows affected)"
    },
    "metadata": {}
}, {
    "output_type": "display_data",
    "data": {
        "text/html": "Total execution time: 00:00:00.036"
    },
    "metadata": {}
}, {
    "output_type": "execute_result",
    "metadata": {},
    "execution_count": 10,
    "data": {
        "application/vnd.dataresource+json": {
            "schema": {
                "fields": [
                    {
                        "name": "Hotelid"
                    },
                    {
                        "name": "id"
                    },
                    {
                        "name": "HostelName"
                    },
                    {
                        "name": "HotelAddress"
                    },
                    {
                        "name": "HotelNumber"
                    },
                    {
                        "name": "HotelDesc"
                    },
                    {
                        "name": "Htimage"
                    },
                    {
                        "name": "Rating"
                    },
                    {
                        "name": "HotelLocation"
                    },
                    {
                        "name": "StaringPr"
                    },
                    {
                        "name": "EndPr"
                    },
                    {
                        "name": "HTstatus"
                    },
                    {
                        "name": "statusmsg"
                    },
                    {
                        "name": "Htisdeleted"
                    },
                    {
                        "name": "LastmodifiedHT"
                    },
                    {
                        "name": "LastmodifiedByHT"
                    }
                ]
            },
            "data": [
                {
                    "Hotelid": "2",
                    "id": "1001",
                    "HostelName": "kings",
                    "HotelAddress": "666.no.door,pergudi,chennai(600512)",
                    "HotelNumber": "9898987654",
                    "HotelDesc": "this located in chennai",
                    "Htimage": "hotel2island.jpg",
                    "Rating": "5",
                    "HotelLocation": "chennai",
                    "StaringPr": "750.8",
                    "EndPr": "1500.8",
                    "HTstatus": "0",
                    "statusmsg": "NTH",
                    "Htisdeleted": "0",
                    "LastmodifiedHT": "2023-07-27",
                    "LastmodifiedByHT": "admin"
                },
                {
                    "Hotelid": "1",
                    "id": "1001",
                    "HostelName": "Malika",
                    "HotelAddress": "6.no.door,pergudi,chennai(600512)",
                    "HotelNumber": "9898987654",
                    "HotelDesc": "this located in chennai",
                    "Htimage": "hotel1Roundcurvl.jpg",
                    "Rating": "5",
                    "HotelLocation": "chennai",
                    "StaringPr": "750.8",
                    "EndPr": "1700.8",
                    "HTstatus": "0",
                    "statusmsg": "NTH",
                    "Htisdeleted": "0",
                    "LastmodifiedHT": "2023-07-27",
                    "LastmodifiedByHT": "admin"
                },
                {
                    "Hotelid": "7",
                    "id": "1006",
                    "HostelName": "Mui000",
                    "HotelAddress": "16-67/5.no.door,pergudi,chennai(600512)",
                    "HotelNumber": "9898987654",
                    "HotelDesc": "this located in chennai",
                    "Htimage": "hotel7_4blocks.jpg",
                    "Rating": "5",
                    "HotelLocation": "chennai",
                    "StaringPr": "750.8",
                    "EndPr": "1700.8",
                    "HTstatus": "0",
                    "statusmsg": "NTH",
                    "Htisdeleted": "0",
                    "LastmodifiedHT": "2023-07-27",
                    "LastmodifiedByHT": "admin"
                }
            ]
        },
        "text/html": [
            "<table>",
            "<tr><th>Hotelid</th><th>id</th><th>HostelName</th><th>HotelAddress</th><th>HotelNumber</th><th>HotelDesc</th><th>Htimage</th><th>Rating</th><th>HotelLocation</th><th>StaringPr</th><th>EndPr</th><th>HTstatus</th><th>statusmsg</th><th>Htisdeleted</th><th>LastmodifiedHT</th><th>LastmodifiedByHT</th></tr>",
            "<tr><td>2</td><td>1001</td><td>kings</td><td>666.no.door,pergudi,chennai(600512)</td><td>9898987654</td><td>this located in chennai</td><td>hotel2island.jpg</td><td>5</td><td>chennai</td><td>750.8</td><td>1500.8</td><td>0</td><td>NTH</td><td>0</td><td>2023-07-27</td><td>admin</td></tr>",
            "<tr><td>1</td><td>1001</td><td>Malika</td><td>6.no.door,pergudi,chennai(600512)</td><td>9898987654</td><td>this located in chennai</td><td>hotel1Roundcurvl.jpg</td><td>5</td><td>chennai</td><td>750.8</td><td>1700.8</td><td>0</td><td>NTH</td><td>0</td><td>2023-07-27</td><td>admin</td></tr>",
            "<tr><td>7</td><td>1006</td><td>Mui000</td><td>16-67/5.no.door,pergudi,chennai(600512)</td><td>9898987654</td><td>this located in chennai</td><td>hotel7_4blocks.jpg</td><td>5</td><td>chennai</td><td>750.8</td><td>1700.8</td><td>0</td><td>NTH</td><td>0</td><td>2023-07-27</td><td>admin</td></tr>",
            "</table>"
        ]
    }
}
],
            "execution_count": 10
        }
    ]
}