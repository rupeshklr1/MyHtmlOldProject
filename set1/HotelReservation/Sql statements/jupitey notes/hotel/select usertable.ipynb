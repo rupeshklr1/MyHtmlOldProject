{
    "metadata": {
        "kernelspec": {
            "name": "SQL",
            "display_name": "SQL",
            "language": "sql"
        },
        "language_info": {
            "name": "sql",
            "version": ""
        }
    },
    "nbformat_minor": 2,
    "nbformat": 4,
    "cells": [
        {
            "cell_type": "code",
            "source": [
                "-- select query to check all active user in table \r\n",
                "select * from klr.Userlist where isDelete=0\n",
                ""
            ],
            "metadata": {
                "azdata_cell_guid": "dbca7bf0-431e-4423-ab5a-6dbcc7cea501",
                "language": "sql",
                "tags": []
            },
            "outputs": [
                {
                    "output_type": "display_data",
                    "data": {
                        "text/html": "(9 rows affected)"
                    },
                    "metadata": {}
                },
                {
                    "output_type": "display_data",
                    "data": {
                        "text/html": "Total execution time: 00:00:00.004"
                    },
                    "metadata": {}
                },
                {
                    "output_type": "execute_result",
                    "execution_count": 6,
                    "data": {
                        "application/vnd.dataresource+json": {
                            "schema": {
                                "fields": [
                                    {
                                        "name": "id"
                                    },
                                    {
                                        "name": "userName"
                                    },
                                    {
                                        "name": "userEmail"
                                    },
                                    {
                                        "name": "userPhoneNo"
                                    },
                                    {
                                        "name": "userPassword"
                                    },
                                    {
                                        "name": "SecertKey"
                                    },
                                    {
                                        "name": "photoRef"
                                    },
                                    {
                                        "name": "Requested"
                                    },
                                    {
                                        "name": "apporvalmsg"
                                    },
                                    {
                                        "name": "TypesMembership"
                                    },
                                    {
                                        "name": "isDelete"
                                    },
                                    {
                                        "name": "Lastmodified"
                                    },
                                    {
                                        "name": "LastmodifiedBy"
                                    }
                                ]
                            },
                            "data": [
                                {
                                    "id": "1001",
                                    "userName": "rupeshco1",
                                    "userEmail": "rup0@datazoic.com",
                                    "userPhoneNo": "7075608979",
                                    "userPassword": "KLR@pesh",
                                    "SecertKey": "appleIShealty",
                                    "photoRef": "NTH",
                                    "Requested": "0",
                                    "apporvalmsg": "NTH",
                                    "TypesMembership": "owner",
                                    "isDelete": "0",
                                    "Lastmodified": "2023-07-27",
                                    "LastmodifiedBy": "admin"
                                },
                                {
                                    "id": "1002",
                                    "userName": "rupeshco2",
                                    "userEmail": "rup1@datazoic.com",
                                    "userPhoneNo": "7075608979",
                                    "userPassword": "KLR@pesh",
                                    "SecertKey": "appleIShealty",
                                    "photoRef": "NTH",
                                    "Requested": "0",
                                    "apporvalmsg": "NTH",
                                    "TypesMembership": "owner",
                                    "isDelete": "0",
                                    "Lastmodified": "2023-07-27",
                                    "LastmodifiedBy": "admin"
                                },
                                {
                                    "id": "1003",
                                    "userName": "rupeshco3",
                                    "userEmail": "rupco@datazoic.com",
                                    "userPhoneNo": "7075608979",
                                    "userPassword": "KLR@pesh",
                                    "SecertKey": "appleIShealty",
                                    "photoRef": "NTH",
                                    "Requested": "0",
                                    "apporvalmsg": "NTH",
                                    "TypesMembership": "owner",
                                    "isDelete": "0",
                                    "Lastmodified": "2023-07-27",
                                    "LastmodifiedBy": "admin"
                                },
                                {
                                    "id": "1004",
                                    "userName": "rupeshco4",
                                    "userEmail": "rupco@datazoic.com",
                                    "userPhoneNo": "7075608979",
                                    "userPassword": "KLR@pesh",
                                    "SecertKey": "appleIShealty",
                                    "photoRef": "NTH",
                                    "Requested": "0",
                                    "apporvalmsg": "NTH",
                                    "TypesMembership": "owner",
                                    "isDelete": "0",
                                    "Lastmodified": "2023-07-27",
                                    "LastmodifiedBy": "admin"
                                },
                                {
                                    "id": "1005",
                                    "userName": "rupeshco5",
                                    "userEmail": "rupco@datazoic.com",
                                    "userPhoneNo": "7075608979",
                                    "userPassword": "KLR@pesh",
                                    "SecertKey": "appleIShealty",
                                    "photoRef": "NTH",
                                    "Requested": "0",
                                    "apporvalmsg": "NTH",
                                    "TypesMembership": "owner",
                                    "isDelete": "0",
                                    "Lastmodified": "2023-07-27",
                                    "LastmodifiedBy": "admin"
                                },
                                {
                                    "id": "1006",
                                    "userName": "rupeshad1",
                                    "userEmail": "rupa@datazoic.com",
                                    "userPhoneNo": "7075608979",
                                    "userPassword": "KLR@pesh",
                                    "SecertKey": "appleIShealty",
                                    "photoRef": "NTH",
                                    "Requested": "0",
                                    "apporvalmsg": "NTH",
                                    "TypesMembership": "admin",
                                    "isDelete": "0",
                                    "Lastmodified": "2023-07-27",
                                    "LastmodifiedBy": "admin"
                                },
                                {
                                    "id": "1007",
                                    "userName": "rupesh0",
                                    "userEmail": "rup0@datazoic.com",
                                    "userPhoneNo": "7075608979",
                                    "userPassword": "KLR@pesh",
                                    "SecertKey": "appleIShealty",
                                    "photoRef": "NTH",
                                    "Requested": "0",
                                    "apporvalmsg": "NTH",
                                    "TypesMembership": "customer",
                                    "isDelete": "0",
                                    "Lastmodified": "2023-07-27",
                                    "LastmodifiedBy": "admin"
                                },
                                {
                                    "id": "1008",
                                    "userName": "rupesh1",
                                    "userEmail": "rup1@datazoic.com",
                                    "userPhoneNo": "7075608979",
                                    "userPassword": "KLR@pesh",
                                    "SecertKey": "appleIShealty",
                                    "photoRef": "NTH",
                                    "Requested": "0",
                                    "apporvalmsg": "NTH",
                                    "TypesMembership": "customer",
                                    "isDelete": "0",
                                    "Lastmodified": "2023-07-27",
                                    "LastmodifiedBy": "admin"
                                },
                                {
                                    "id": "1009",
                                    "userName": "rupesh2",
                                    "userEmail": "rup2@datazoic.com",
                                    "userPhoneNo": "7075608979",
                                    "userPassword": "KLR@pesh",
                                    "SecertKey": "appleIShealty",
                                    "photoRef": "NTH",
                                    "Requested": "0",
                                    "apporvalmsg": "NTH",
                                    "TypesMembership": "customer",
                                    "isDelete": "0",
                                    "Lastmodified": "2023-07-27",
                                    "LastmodifiedBy": "admin"
                                }
                            ]
                        },
                        "text/html": "<table><tr><th>id</th><th>userName</th><th>userEmail</th><th>userPhoneNo</th><th>userPassword</th><th>SecertKey</th><th>photoRef</th><th>Requested</th><th>apporvalmsg</th><th>TypesMembership</th><th>isDelete</th><th>Lastmodified</th><th>LastmodifiedBy</th></tr><tr><td>1001</td><td>rupeshco1</td><td>rup0@datazoic.com</td><td>7075608979</td><td>KLR@pesh</td><td>appleIShealty</td><td>NTH</td><td>0</td><td>NTH</td><td>owner</td><td>0</td><td>2023-07-27</td><td>admin</td></tr><tr><td>1002</td><td>rupeshco2</td><td>rup1@datazoic.com</td><td>7075608979</td><td>KLR@pesh</td><td>appleIShealty</td><td>NTH</td><td>0</td><td>NTH</td><td>owner</td><td>0</td><td>2023-07-27</td><td>admin</td></tr><tr><td>1003</td><td>rupeshco3</td><td>rupco@datazoic.com</td><td>7075608979</td><td>KLR@pesh</td><td>appleIShealty</td><td>NTH</td><td>0</td><td>NTH</td><td>owner</td><td>0</td><td>2023-07-27</td><td>admin</td></tr><tr><td>1004</td><td>rupeshco4</td><td>rupco@datazoic.com</td><td>7075608979</td><td>KLR@pesh</td><td>appleIShealty</td><td>NTH</td><td>0</td><td>NTH</td><td>owner</td><td>0</td><td>2023-07-27</td><td>admin</td></tr><tr><td>1005</td><td>rupeshco5</td><td>rupco@datazoic.com</td><td>7075608979</td><td>KLR@pesh</td><td>appleIShealty</td><td>NTH</td><td>0</td><td>NTH</td><td>owner</td><td>0</td><td>2023-07-27</td><td>admin</td></tr><tr><td>1006</td><td>rupeshad1</td><td>rupa@datazoic.com</td><td>7075608979</td><td>KLR@pesh</td><td>appleIShealty</td><td>NTH</td><td>0</td><td>NTH</td><td>admin</td><td>0</td><td>2023-07-27</td><td>admin</td></tr><tr><td>1007</td><td>rupesh0</td><td>rup0@datazoic.com</td><td>7075608979</td><td>KLR@pesh</td><td>appleIShealty</td><td>NTH</td><td>0</td><td>NTH</td><td>customer</td><td>0</td><td>2023-07-27</td><td>admin</td></tr><tr><td>1008</td><td>rupesh1</td><td>rup1@datazoic.com</td><td>7075608979</td><td>KLR@pesh</td><td>appleIShealty</td><td>NTH</td><td>0</td><td>NTH</td><td>customer</td><td>0</td><td>2023-07-27</td><td>admin</td></tr><tr><td>1009</td><td>rupesh2</td><td>rup2@datazoic.com</td><td>7075608979</td><td>KLR@pesh</td><td>appleIShealty</td><td>NTH</td><td>0</td><td>NTH</td><td>customer</td><td>0</td><td>2023-07-27</td><td>admin</td></tr></table>"
                    },
                    "metadata": {}
                }
            ],
            "execution_count": 6
        },
        {
            "cell_type": "code",
            "source": [
                "-- selecting user is our database and cretantion to check match are not\r\n",
                "--select id,userEmail,userPassword from klr.Userlist where isDelete=0\tand  TypesMembership='admin'\r\n",
                " \r\n",
                "select id,userName,userPhoneNo,userPassword,SecertKey,photoRef,Requested,apporvalmsg from klr.Userlist where isDelete=0\tand  TypesMembership='admin' and userEmail='rupa@datazoic.com' \r\n",
                "\r\n",
                "\r\n",
                "select id,userEmail,userPassword,TypesMembership from klr.Userlist where isDelete=0\tand  TypesMembership='admin' and userEmail='rupa@datazoic.com' \r\n",
                ""
            ],
            "metadata": {
                "language": "sql",
                "azdata_cell_guid": "c9d23a21-e1fa-473f-90bb-d7b5d6a93d60",
                "tags": [
                    "hide_input"
                ]
            },
            "outputs": [
                {
                    "output_type": "display_data",
                    "data": {
                        "text/html": "(1 row affected)"
                    },
                    "metadata": {}
                },
                {
                    "output_type": "display_data",
                    "data": {
                        "text/html": "(1 row affected)"
                    },
                    "metadata": {}
                },
                {
                    "output_type": "display_data",
                    "data": {
                        "text/html": "Total execution time: 00:00:00.524"
                    },
                    "metadata": {}
                },
                {
                    "output_type": "execute_result",
                    "execution_count": 12,
                    "data": {
                        "application/vnd.dataresource+json": {
                            "schema": {
                                "fields": [
                                    {
                                        "name": "id"
                                    },
                                    {
                                        "name": "userName"
                                    },
                                    {
                                        "name": "userPhoneNo"
                                    },
                                    {
                                        "name": "userPassword"
                                    },
                                    {
                                        "name": "SecertKey"
                                    },
                                    {
                                        "name": "photoRef"
                                    },
                                    {
                                        "name": "Requested"
                                    },
                                    {
                                        "name": "apporvalmsg"
                                    }
                                ]
                            },
                            "data": [
                                {
                                    "id": "1006",
                                    "userName": "rupeshad1",
                                    "userPhoneNo": "7075608979",
                                    "userPassword": "KLR@pesh",
                                    "SecertKey": "appleIShealty",
                                    "photoRef": "NTH",
                                    "Requested": "0",
                                    "apporvalmsg": "NTH"
                                }
                            ]
                        },
                        "text/html": "<table><tr><th>id</th><th>userName</th><th>userPhoneNo</th><th>userPassword</th><th>SecertKey</th><th>photoRef</th><th>Requested</th><th>apporvalmsg</th></tr><tr><td>1006</td><td>rupeshad1</td><td>7075608979</td><td>KLR@pesh</td><td>appleIShealty</td><td>NTH</td><td>0</td><td>NTH</td></tr></table>"
                    },
                    "metadata": {}
                },
                {
                    "output_type": "execute_result",
                    "execution_count": 12,
                    "data": {
                        "application/vnd.dataresource+json": {
                            "schema": {
                                "fields": [
                                    {
                                        "name": "id"
                                    },
                                    {
                                        "name": "userEmail"
                                    },
                                    {
                                        "name": "userPassword"
                                    },
                                    {
                                        "name": "TypesMembership"
                                    }
                                ]
                            },
                            "data": [
                                {
                                    "id": "1006",
                                    "userEmail": "rupa@datazoic.com",
                                    "userPassword": "KLR@pesh",
                                    "TypesMembership": "admin"
                                }
                            ]
                        },
                        "text/html": "<table><tr><th>id</th><th>userEmail</th><th>userPassword</th><th>TypesMembership</th></tr><tr><td>1006</td><td>rupa@datazoic.com</td><td>KLR@pesh</td><td>admin</td></tr></table>"
                    },
                    "metadata": {}
                }
            ],
            "execution_count": 12
        },
        {
            "cell_type": "code",
            "source": [
                "-- select hotellist\r\n",
                "\r\n",
                "select * from klr.Hotels WHERE Htisdeleted=0\r\n",
                "\r\n",
                "--select * from klr.Hotels WHERE Htisdeleted=0 and HTstatus in (1,0) and id=? and HostelName=? and HotelAddress =? and Htimage=? and HotelLocation =?"
            ],
            "metadata": {
                "language": "sql",
                "azdata_cell_guid": "0b2f17cb-b990-45c0-b0a8-33073793f68f",
                "tags": []
            },
            "outputs": [
{
    "output_type": "display_data",
    "data": {
        "text/html": "(10 rows affected)"
    },
    "metadata": {}
}, {
    "output_type": "display_data",
    "data": {
        "text/html": "Total execution time: 00:00:00.170"
    },
    "metadata": {}
}, {
    "output_type": "execute_result",
    "metadata": {},
    "execution_count": 2,
    "data": {
        "application/vnd.dataresource+json": {
            "schema": {
                "fields": [
                    {
                        "name": "Hotelid"
                    },
                    {
                        "name": "id"
                    },
                    {
                        "name": "HostelName"
                    },
                    {
                        "name": "HotelAddress"
                    },
                    {
                        "name": "HotelNumber"
                    },
                    {
                        "name": "HotelDesc"
                    },
                    {
                        "name": "Htimage"
                    },
                    {
                        "name": "Rating"
                    },
                    {
                        "name": "HotelLocation"
                    },
                    {
                        "name": "StaringPr"
                    },
                    {
                        "name": "EndPr"
                    },
                    {
                        "name": "HTstatus"
                    },
                    {
                        "name": "statusmsg"
                    },
                    {
                        "name": "Htisdeleted"
                    },
                    {
                        "name": "LastmodifiedHT"
                    },
                    {
                        "name": "LastmodifiedByHT"
                    }
                ]
            },
            "data": [
                {
                    "Hotelid": "1",
                    "id": "1001",
                    "HostelName": "Malika",
                    "HotelAddress": "6.no.door,pergudi,chennai(600512)",
                    "HotelNumber": "9898987654",
                    "HotelDesc": "this located in chennai",
                    "Htimage": "hotel1Roundcurvl.jpg",
                    "Rating": "5",
                    "HotelLocation": "chennai",
                    "StaringPr": "750.8",
                    "EndPr": "1700.8",
                    "HTstatus": "0",
                    "statusmsg": "NTH",
                    "Htisdeleted": "0",
                    "LastmodifiedHT": "2023-07-27",
                    "LastmodifiedByHT": "admin"
                },
                {
                    "Hotelid": "2",
                    "id": "1001",
                    "HostelName": "kings",
                    "HotelAddress": "666.no.door,pergudi,chennai(600512)",
                    "HotelNumber": "9898987654",
                    "HotelDesc": "this located in chennai",
                    "Htimage": "hotel2island.jpg",
                    "Rating": "5",
                    "HotelLocation": "chennai",
                    "StaringPr": "750.8",
                    "EndPr": "1500.8",
                    "HTstatus": "0",
                    "statusmsg": "NTH",
                    "Htisdeleted": "0",
                    "LastmodifiedHT": "2023-07-27",
                    "LastmodifiedByHT": "admin"
                },
                {
                    "Hotelid": "3",
                    "id": "1002",
                    "HostelName": "prabha grand inn",
                    "HotelAddress": "6.no.door,pergudi,chittoor(517001)",
                    "HotelNumber": "9898987654",
                    "HotelDesc": "this located in chittoor",
                    "Htimage": "hotel3publicmodel.jpg",
                    "Rating": "5",
                    "HotelLocation": "chittoor",
                    "StaringPr": "1500.8",
                    "EndPr": "1700.8",
                    "HTstatus": "0",
                    "statusmsg": "NTH",
                    "Htisdeleted": "0",
                    "LastmodifiedHT": "2023-07-27",
                    "LastmodifiedByHT": "admin"
                },
                {
                    "Hotelid": "4",
                    "id": "1003",
                    "HostelName": "gem minners",
                    "HotelAddress": "06\\8.no.door,pergudi,tirupati(512892)",
                    "HotelNumber": "9898987654",
                    "HotelDesc": "this located in tirupati",
                    "Htimage": "hotel4costtly.jpg",
                    "Rating": "5",
                    "HotelLocation": "tirupati",
                    "StaringPr": "1500.8",
                    "EndPr": "1700.8",
                    "HTstatus": "0",
                    "statusmsg": "NTH",
                    "Htisdeleted": "0",
                    "LastmodifiedHT": "2023-07-27",
                    "LastmodifiedByHT": "admin"
                },
                {
                    "Hotelid": "5",
                    "id": "1003",
                    "HostelName": "gem beggers",
                    "HotelAddress": "99.no.door,pergudi,tirupati(512892)",
                    "HotelNumber": "9898987654",
                    "HotelDesc": "this located in tirupati",
                    "Htimage": "hotel5royal.jpg",
                    "Rating": "5",
                    "HotelLocation": "tirupati",
                    "StaringPr": "1500.8",
                    "EndPr": "1700.8",
                    "HTstatus": "0",
                    "statusmsg": "NTH",
                    "Htisdeleted": "0",
                    "LastmodifiedHT": "2023-07-27",
                    "LastmodifiedByHT": "admin"
                },
                {
                    "Hotelid": "6",
                    "id": "1005",
                    "HostelName": "golden hotel",
                    "HotelAddress": "6.no.door,pergudi,chennai(600512)",
                    "HotelNumber": "9898987654",
                    "HotelDesc": "this located in chennai",
                    "Htimage": "hotel6swingpool.jpg",
                    "Rating": "5",
                    "HotelLocation": "chennai",
                    "StaringPr": "1500.8",
                    "EndPr": "1700.8",
                    "HTstatus": "0",
                    "statusmsg": "NTH",
                    "Htisdeleted": "0",
                    "LastmodifiedHT": "2023-07-27",
                    "LastmodifiedByHT": "admin"
                },
                {
                    "Hotelid": "7",
                    "id": "1006",
                    "HostelName": "Mui000",
                    "HotelAddress": "16-67/5.no.door,pergudi,chennai(600512)",
                    "HotelNumber": "9898987654",
                    "HotelDesc": "this located in chennai",
                    "Htimage": "hotel7_4blocks.jpg",
                    "Rating": "5",
                    "HotelLocation": "chennai",
                    "StaringPr": "750.8",
                    "EndPr": "1700.8",
                    "HTstatus": "0",
                    "statusmsg": "NTH",
                    "Htisdeleted": "0",
                    "LastmodifiedHT": "2023-07-27",
                    "LastmodifiedByHT": "admin"
                },
                {
                    "Hotelid": "8",
                    "id": "1006",
                    "HostelName": "goodness",
                    "HotelAddress": "17-89/3,door,pergudi,tirupati(600512)",
                    "HotelNumber": "9898987654",
                    "HotelDesc": "this located in tirupati",
                    "Htimage": "hotel1Roundcurvl.jpg",
                    "Rating": "5",
                    "HotelLocation": "tirupati",
                    "StaringPr": "750.8",
                    "EndPr": "1500.8",
                    "HTstatus": "0",
                    "statusmsg": "NTH",
                    "Htisdeleted": "0",
                    "LastmodifiedHT": "2023-07-27",
                    "LastmodifiedByHT": "admin"
                },
                {
                    "Hotelid": "9",
                    "id": "1006",
                    "HostelName": "lovers flyer",
                    "HotelAddress": "76.no.door,pergudi,chittoor(600512)",
                    "HotelNumber": "9898987654",
                    "HotelDesc": "this located in chittoor",
                    "Htimage": "hotel4costtly.jpg",
                    "Rating": "5",
                    "HotelLocation": "chittoor",
                    "StaringPr": "1500.8",
                    "EndPr": "1500.8",
                    "HTstatus": "0",
                    "statusmsg": "NTH",
                    "Htisdeleted": "0",
                    "LastmodifiedHT": "2023-07-27",
                    "LastmodifiedByHT": "admin"
                },
                {
                    "Hotelid": "1001",
                    "id": "1006",
                    "HostelName": "hotel name 1",
                    "HotelAddress": "somthing revalent",
                    "HotelNumber": "1234567890",
                    "HotelDesc": "somthing revalent",
                    "Htimage": "NTH",
                    "Rating": "0",
                    "HotelLocation": "temp object",
                    "StaringPr": "0",
                    "EndPr": "0",
                    "HTstatus": "0",
                    "statusmsg": "somthing revalent",
                    "Htisdeleted": "0",
                    "LastmodifiedHT": "2023-08-04",
                    "LastmodifiedByHT": "admin"
                }
            ]
        },
        "text/html": [
            "<table>",
            "<tr><th>Hotelid</th><th>id</th><th>HostelName</th><th>HotelAddress</th><th>HotelNumber</th><th>HotelDesc</th><th>Htimage</th><th>Rating</th><th>HotelLocation</th><th>StaringPr</th><th>EndPr</th><th>HTstatus</th><th>statusmsg</th><th>Htisdeleted</th><th>LastmodifiedHT</th><th>LastmodifiedByHT</th></tr>",
            "<tr><td>1</td><td>1001</td><td>Malika</td><td>6.no.door,pergudi,chennai(600512)</td><td>9898987654</td><td>this located in chennai</td><td>hotel1Roundcurvl.jpg</td><td>5</td><td>chennai</td><td>750.8</td><td>1700.8</td><td>0</td><td>NTH</td><td>0</td><td>2023-07-27</td><td>admin</td></tr>",
            "<tr><td>2</td><td>1001</td><td>kings</td><td>666.no.door,pergudi,chennai(600512)</td><td>9898987654</td><td>this located in chennai</td><td>hotel2island.jpg</td><td>5</td><td>chennai</td><td>750.8</td><td>1500.8</td><td>0</td><td>NTH</td><td>0</td><td>2023-07-27</td><td>admin</td></tr>",
            "<tr><td>3</td><td>1002</td><td>prabha grand inn</td><td>6.no.door,pergudi,chittoor(517001)</td><td>9898987654</td><td>this located in chittoor</td><td>hotel3publicmodel.jpg</td><td>5</td><td>chittoor</td><td>1500.8</td><td>1700.8</td><td>0</td><td>NTH</td><td>0</td><td>2023-07-27</td><td>admin</td></tr>",
            "<tr><td>4</td><td>1003</td><td>gem minners</td><td>06\\8.no.door,pergudi,tirupati(512892)</td><td>9898987654</td><td>this located in tirupati</td><td>hotel4costtly.jpg</td><td>5</td><td>tirupati</td><td>1500.8</td><td>1700.8</td><td>0</td><td>NTH</td><td>0</td><td>2023-07-27</td><td>admin</td></tr>",
            "<tr><td>5</td><td>1003</td><td>gem beggers</td><td>99.no.door,pergudi,tirupati(512892)</td><td>9898987654</td><td>this located in tirupati</td><td>hotel5royal.jpg</td><td>5</td><td>tirupati</td><td>1500.8</td><td>1700.8</td><td>0</td><td>NTH</td><td>0</td><td>2023-07-27</td><td>admin</td></tr>",
            "<tr><td>6</td><td>1005</td><td>golden hotel</td><td>6.no.door,pergudi,chennai(600512)</td><td>9898987654</td><td>this located in chennai</td><td>hotel6swingpool.jpg</td><td>5</td><td>chennai</td><td>1500.8</td><td>1700.8</td><td>0</td><td>NTH</td><td>0</td><td>2023-07-27</td><td>admin</td></tr>",
            "<tr><td>7</td><td>1006</td><td>Mui000</td><td>16-67/5.no.door,pergudi,chennai(600512)</td><td>9898987654</td><td>this located in chennai</td><td>hotel7_4blocks.jpg</td><td>5</td><td>chennai</td><td>750.8</td><td>1700.8</td><td>0</td><td>NTH</td><td>0</td><td>2023-07-27</td><td>admin</td></tr>",
            "<tr><td>8</td><td>1006</td><td>goodness</td><td>17-89/3,door,pergudi,tirupati(600512)</td><td>9898987654</td><td>this located in tirupati</td><td>hotel1Roundcurvl.jpg</td><td>5</td><td>tirupati</td><td>750.8</td><td>1500.8</td><td>0</td><td>NTH</td><td>0</td><td>2023-07-27</td><td>admin</td></tr>",
            "<tr><td>9</td><td>1006</td><td>lovers flyer</td><td>76.no.door,pergudi,chittoor(600512)</td><td>9898987654</td><td>this located in chittoor</td><td>hotel4costtly.jpg</td><td>5</td><td>chittoor</td><td>1500.8</td><td>1500.8</td><td>0</td><td>NTH</td><td>0</td><td>2023-07-27</td><td>admin</td></tr>",
            "<tr><td>1001</td><td>1006</td><td>hotel name 1</td><td>somthing revalent</td><td>1234567890</td><td>somthing revalent</td><td>NTH</td><td>0</td><td>temp object</td><td>0</td><td>0</td><td>0</td><td>somthing revalent</td><td>0</td><td>2023-08-04</td><td>admin</td></tr>",
            "</table>"
        ]
    }
}
],
            "execution_count": 2
        },
        {
            "cell_type": "code",
            "source": [
                "-- select roomlists \r\n",
                "SELECT * from klr.Roomlists WHERE RmisDeleted=0"
            ],
            "metadata": {
                "language": "sql",
                "azdata_cell_guid": "8b14569c-9c65-40cc-81e7-825c7e01d64a",
                "tags": []
            },
            "outputs": [
                {
                    "output_type": "display_data",
                    "data": {
                        "text/html": "(31 rows affected)"
                    },
                    "metadata": {}
                },
                {
                    "output_type": "display_data",
                    "data": {
                        "text/html": "Total execution time: 00:00:00.022"
                    },
                    "metadata": {}
                },
                {
                    "output_type": "execute_result",
                    "execution_count": 9,
                    "data": {
                        "application/vnd.dataresource+json": {
                            "schema": {
                                "fields": [
                                    {
                                        "name": "Roomid"
                                    },
                                    {
                                        "name": "HostelId"
                                    },
                                    {
                                        "name": "id"
                                    },
                                    {
                                        "name": "RoomType"
                                    },
                                    {
                                        "name": "BedCount"
                                    },
                                    {
                                        "name": "roomImage"
                                    },
                                    {
                                        "name": "price"
                                    },
                                    {
                                        "name": "CanStaycount"
                                    },
                                    {
                                        "name": "RmisDeleted"
                                    },
                                    {
                                        "name": "LastmodifiedRM"
                                    },
                                    {
                                        "name": "LastmodifiedByRM"
                                    }
                                ]
                            },
                            "data": [
                                {
                                    "Roomid": "1",
                                    "HostelId": "1",
                                    "id": "1001",
                                    "RoomType": "Ac",
                                    "BedCount": "3",
                                    "roomImage": "../assets/img/rooms/room1whiteice.webp",
                                    "price": "1700.8",
                                    "CanStaycount": "5",
                                    "RmisDeleted": "0",
                                    "LastmodifiedRM": "2023-07-27",
                                    "LastmodifiedByRM": "admin"
                                },
                                {
                                    "Roomid": "2",
                                    "HostelId": "1",
                                    "id": "1001",
                                    "RoomType": "Ac",
                                    "BedCount": "3",
                                    "roomImage": "../assets/img/rooms/room1whiteice.webp",
                                    "price": "1700.8",
                                    "CanStaycount": "5",
                                    "RmisDeleted": "0",
                                    "LastmodifiedRM": "2023-07-27",
                                    "LastmodifiedByRM": "admin"
                                },
                                {
                                    "Roomid": "3",
                                    "HostelId": "1",
                                    "id": "1001",
                                    "RoomType": "Ac",
                                    "BedCount": "3",
                                    "roomImage": "../assets/img/rooms/room1whiteice.webp",
                                    "price": "1700.8",
                                    "CanStaycount": "5",
                                    "RmisDeleted": "0",
                                    "LastmodifiedRM": "2023-07-27",
                                    "LastmodifiedByRM": "admin"
                                },
                                {
                                    "Roomid": "4",
                                    "HostelId": "1",
                                    "id": "1001",
                                    "RoomType": "Non/Ac",
                                    "BedCount": "3",
                                    "roomImage": "../assets/img/rooms/room1whiteice.webp",
                                    "price": "750.8",
                                    "CanStaycount": "7",
                                    "RmisDeleted": "0",
                                    "LastmodifiedRM": "2023-07-27",
                                    "LastmodifiedByRM": "admin"
                                },
                                {
                                    "Roomid": "5",
                                    "HostelId": "1",
                                    "id": "1001",
                                    "RoomType": "Non/Ac",
                                    "BedCount": "3",
                                    "roomImage": "../assets/img/rooms/room1whiteice.webp",
                                    "price": "750.8",
                                    "CanStaycount": "7",
                                    "RmisDeleted": "0",
                                    "LastmodifiedRM": "2023-07-27",
                                    "LastmodifiedByRM": "admin"
                                },
                                {
                                    "Roomid": "6",
                                    "HostelId": "2",
                                    "id": "1001",
                                    "RoomType": "Ac",
                                    "BedCount": "3",
                                    "roomImage": "../assets/img/rooms/room1whiteice.webp",
                                    "price": "1500.8",
                                    "CanStaycount": "3",
                                    "RmisDeleted": "0",
                                    "LastmodifiedRM": "2023-07-27",
                                    "LastmodifiedByRM": "admin"
                                },
                                {
                                    "Roomid": "7",
                                    "HostelId": "2",
                                    "id": "1001",
                                    "RoomType": "Ac",
                                    "BedCount": "3",
                                    "roomImage": "../assets/img/rooms/room1whiteice.webp",
                                    "price": "1500.8",
                                    "CanStaycount": "3",
                                    "RmisDeleted": "0",
                                    "LastmodifiedRM": "2023-07-27",
                                    "LastmodifiedByRM": "admin"
                                },
                                {
                                    "Roomid": "8",
                                    "HostelId": "2",
                                    "id": "1001",
                                    "RoomType": "Ac",
                                    "BedCount": "3",
                                    "roomImage": "../assets/img/rooms/room1whiteice.webp",
                                    "price": "1500.8",
                                    "CanStaycount": "3",
                                    "RmisDeleted": "0",
                                    "LastmodifiedRM": "2023-07-27",
                                    "LastmodifiedByRM": "admin"
                                },
                                {
                                    "Roomid": "9",
                                    "HostelId": "2",
                                    "id": "1001",
                                    "RoomType": "Non/Ac",
                                    "BedCount": "3",
                                    "roomImage": "../assets/img/rooms/room1whiteice.webp",
                                    "price": "750.8",
                                    "CanStaycount": "7",
                                    "RmisDeleted": "0",
                                    "LastmodifiedRM": "2023-07-27",
                                    "LastmodifiedByRM": "admin"
                                },
                                {
                                    "Roomid": "10",
                                    "HostelId": "2",
                                    "id": "1001",
                                    "RoomType": "Non/Ac",
                                    "BedCount": "3",
                                    "roomImage": "../assets/img/rooms/room1whiteice.webp",
                                    "price": "750.8",
                                    "CanStaycount": "7",
                                    "RmisDeleted": "0",
                                    "LastmodifiedRM": "2023-07-27",
                                    "LastmodifiedByRM": "admin"
                                },
                                {
                                    "Roomid": "11",
                                    "HostelId": "3",
                                    "id": "1002",
                                    "RoomType": "Ac",
                                    "BedCount": "3",
                                    "roomImage": "../assets/img/rooms/room1whiteice.webp",
                                    "price": "1500.8",
                                    "CanStaycount": "3",
                                    "RmisDeleted": "0",
                                    "LastmodifiedRM": "2023-07-27",
                                    "LastmodifiedByRM": "admin"
                                },
                                {
                                    "Roomid": "12",
                                    "HostelId": "3",
                                    "id": "1002",
                                    "RoomType": "Ac",
                                    "BedCount": "3",
                                    "roomImage": "../assets/img/rooms/room1whiteice.webp",
                                    "price": "1500.8",
                                    "CanStaycount": "3",
                                    "RmisDeleted": "0",
                                    "LastmodifiedRM": "2023-07-27",
                                    "LastmodifiedByRM": "admin"
                                },
                                {
                                    "Roomid": "13",
                                    "HostelId": "3",
                                    "id": "1002",
                                    "RoomType": "Ac",
                                    "BedCount": "3",
                                    "roomImage": "../assets/img/rooms/room1whiteice.webp",
                                    "price": "1700.8",
                                    "CanStaycount": "5",
                                    "RmisDeleted": "0",
                                    "LastmodifiedRM": "2023-07-27",
                                    "LastmodifiedByRM": "admin"
                                },
                                {
                                    "Roomid": "14",
                                    "HostelId": "3",
                                    "id": "1002",
                                    "RoomType": "Ac",
                                    "BedCount": "3",
                                    "roomImage": "../assets/img/rooms/room1whiteice.webp",
                                    "price": "1500.8",
                                    "CanStaycount": "3",
                                    "RmisDeleted": "0",
                                    "LastmodifiedRM": "2023-07-27",
                                    "LastmodifiedByRM": "admin"
                                },
                                {
                                    "Roomid": "15",
                                    "HostelId": "3",
                                    "id": "1002",
                                    "RoomType": "Ac",
                                    "BedCount": "3",
                                    "roomImage": "../assets/img/rooms/room1whiteice.webp",
                                    "price": "1700.8",
                                    "CanStaycount": "5",
                                    "RmisDeleted": "0",
                                    "LastmodifiedRM": "2023-07-27",
                                    "LastmodifiedByRM": "admin"
                                },
                                {
                                    "Roomid": "16",
                                    "HostelId": "4",
                                    "id": "1003",
                                    "RoomType": "Ac",
                                    "BedCount": "3",
                                    "roomImage": "../assets/img/rooms/room1whiteice.webp",
                                    "price": "1500.8",
                                    "CanStaycount": "3",
                                    "RmisDeleted": "0",
                                    "LastmodifiedRM": "2023-07-27",
                                    "LastmodifiedByRM": "admin"
                                },
                                {
                                    "Roomid": "17",
                                    "HostelId": "4",
                                    "id": "1003",
                                    "RoomType": "Ac",
                                    "BedCount": "3",
                                    "roomImage": "../assets/img/rooms/room1whiteice.webp",
                                    "price": "1500.8",
                                    "CanStaycount": "3",
                                    "RmisDeleted": "0",
                                    "LastmodifiedRM": "2023-07-27",
                                    "LastmodifiedByRM": "admin"
                                },
                                {
                                    "Roomid": "18",
                                    "HostelId": "4",
                                    "id": "1003",
                                    "RoomType": "Ac",
                                    "BedCount": "3",
                                    "roomImage": "../assets/img/rooms/room1whiteice.webp",
                                    "price": "1700.8",
                                    "CanStaycount": "5",
                                    "RmisDeleted": "0",
                                    "LastmodifiedRM": "2023-07-27",
                                    "LastmodifiedByRM": "admin"
                                },
                                {
                                    "Roomid": "19",
                                    "HostelId": "4",
                                    "id": "1003",
                                    "RoomType": "Ac",
                                    "BedCount": "3",
                                    "roomImage": "../assets/img/rooms/room1whiteice.webp",
                                    "price": "1500.8",
                                    "CanStaycount": "3",
                                    "RmisDeleted": "0",
                                    "LastmodifiedRM": "2023-07-27",
                                    "LastmodifiedByRM": "admin"
                                },
                                {
                                    "Roomid": "20",
                                    "HostelId": "4",
                                    "id": "1003",
                                    "RoomType": "Ac",
                                    "BedCount": "3",
                                    "roomImage": "../assets/img/rooms/room1whiteice.webp",
                                    "price": "1700.8",
                                    "CanStaycount": "5",
                                    "RmisDeleted": "0",
                                    "LastmodifiedRM": "2023-07-27",
                                    "LastmodifiedByRM": "admin"
                                },
                                {
                                    "Roomid": "21",
                                    "HostelId": "5",
                                    "id": "1003",
                                    "RoomType": "Ac",
                                    "BedCount": "3",
                                    "roomImage": "../assets/img/rooms/room1whiteice.webp",
                                    "price": "1500.8",
                                    "CanStaycount": "3",
                                    "RmisDeleted": "0",
                                    "LastmodifiedRM": "2023-07-27",
                                    "LastmodifiedByRM": "admin"
                                },
                                {
                                    "Roomid": "22",
                                    "HostelId": "5",
                                    "id": "1003",
                                    "RoomType": "Ac",
                                    "BedCount": "3",
                                    "roomImage": "../assets/img/rooms/room1whiteice.webp",
                                    "price": "1500.8",
                                    "CanStaycount": "3",
                                    "RmisDeleted": "0",
                                    "LastmodifiedRM": "2023-07-27",
                                    "LastmodifiedByRM": "admin"
                                },
                                {
                                    "Roomid": "23",
                                    "HostelId": "5",
                                    "id": "1003",
                                    "RoomType": "Ac",
                                    "BedCount": "3",
                                    "roomImage": "../assets/img/rooms/room1whiteice.webp",
                                    "price": "1700.8",
                                    "CanStaycount": "5",
                                    "RmisDeleted": "0",
                                    "LastmodifiedRM": "2023-07-27",
                                    "LastmodifiedByRM": "admin"
                                },
                                {
                                    "Roomid": "24",
                                    "HostelId": "6",
                                    "id": "1005",
                                    "RoomType": "Ac",
                                    "BedCount": "3",
                                    "roomImage": "../assets/img/rooms/room1whiteice.webp",
                                    "price": "1500.8",
                                    "CanStaycount": "3",
                                    "RmisDeleted": "0",
                                    "LastmodifiedRM": "2023-07-27",
                                    "LastmodifiedByRM": "admin"
                                },
                                {
                                    "Roomid": "25",
                                    "HostelId": "6",
                                    "id": "1005",
                                    "RoomType": "Ac",
                                    "BedCount": "3",
                                    "roomImage": "../assets/img/rooms/room1whiteice.webp",
                                    "price": "1700.8",
                                    "CanStaycount": "5",
                                    "RmisDeleted": "0",
                                    "LastmodifiedRM": "2023-07-27",
                                    "LastmodifiedByRM": "admin"
                                },
                                {
                                    "Roomid": "26",
                                    "HostelId": "7",
                                    "id": "1006",
                                    "RoomType": "Ac",
                                    "BedCount": "3",
                                    "roomImage": "../assets/img/rooms/room1whiteice.webp",
                                    "price": "1700.8",
                                    "CanStaycount": "5",
                                    "RmisDeleted": "0",
                                    "LastmodifiedRM": "2023-07-27",
                                    "LastmodifiedByRM": "admin"
                                },
                                {
                                    "Roomid": "27",
                                    "HostelId": "7",
                                    "id": "1006",
                                    "RoomType": "Ac",
                                    "BedCount": "3",
                                    "roomImage": "../assets/img/rooms/room1whiteice.webp",
                                    "price": "1500.8",
                                    "CanStaycount": "3",
                                    "RmisDeleted": "0",
                                    "LastmodifiedRM": "2023-07-27",
                                    "LastmodifiedByRM": "admin"
                                },
                                {
                                    "Roomid": "28",
                                    "HostelId": "7",
                                    "id": "1006",
                                    "RoomType": "Non/Ac",
                                    "BedCount": "3",
                                    "roomImage": "../assets/img/rooms/room1whiteice.webp",
                                    "price": "750.8",
                                    "CanStaycount": "7",
                                    "RmisDeleted": "0",
                                    "LastmodifiedRM": "2023-07-27",
                                    "LastmodifiedByRM": "admin"
                                },
                                {
                                    "Roomid": "29",
                                    "HostelId": "8",
                                    "id": "1006",
                                    "RoomType": "Ac",
                                    "BedCount": "3",
                                    "roomImage": "../assets/img/rooms/room1whiteice.webp",
                                    "price": "1500.8",
                                    "CanStaycount": "3",
                                    "RmisDeleted": "0",
                                    "LastmodifiedRM": "2023-07-27",
                                    "LastmodifiedByRM": "admin"
                                },
                                {
                                    "Roomid": "30",
                                    "HostelId": "8",
                                    "id": "1006",
                                    "RoomType": "Non/Ac",
                                    "BedCount": "3",
                                    "roomImage": "../assets/img/rooms/room1whiteice.webp",
                                    "price": "750.8",
                                    "CanStaycount": "3",
                                    "RmisDeleted": "0",
                                    "LastmodifiedRM": "2023-07-27",
                                    "LastmodifiedByRM": "admin"
                                },
                                {
                                    "Roomid": "31",
                                    "HostelId": "9",
                                    "id": "1006",
                                    "RoomType": "Ac",
                                    "BedCount": "3",
                                    "roomImage": "../assets/img/rooms/room1whiteice.webp",
                                    "price": "1500.8",
                                    "CanStaycount": "3",
                                    "RmisDeleted": "0",
                                    "LastmodifiedRM": "2023-07-27",
                                    "LastmodifiedByRM": "admin"
                                }
                            ]
                        },
                        "text/html": "<table><tr><th>Roomid</th><th>HostelId</th><th>id</th><th>RoomType</th><th>BedCount</th><th>roomImage</th><th>price</th><th>CanStaycount</th><th>RmisDeleted</th><th>LastmodifiedRM</th><th>LastmodifiedByRM</th></tr><tr><td>1</td><td>1</td><td>1001</td><td>Ac</td><td>3</td><td>../assets/img/rooms/room1whiteice.webp</td><td>1700.8</td><td>5</td><td>0</td><td>2023-07-27</td><td>admin</td></tr><tr><td>2</td><td>1</td><td>1001</td><td>Ac</td><td>3</td><td>../assets/img/rooms/room1whiteice.webp</td><td>1700.8</td><td>5</td><td>0</td><td>2023-07-27</td><td>admin</td></tr><tr><td>3</td><td>1</td><td>1001</td><td>Ac</td><td>3</td><td>../assets/img/rooms/room1whiteice.webp</td><td>1700.8</td><td>5</td><td>0</td><td>2023-07-27</td><td>admin</td></tr><tr><td>4</td><td>1</td><td>1001</td><td>Non/Ac</td><td>3</td><td>../assets/img/rooms/room1whiteice.webp</td><td>750.8</td><td>7</td><td>0</td><td>2023-07-27</td><td>admin</td></tr><tr><td>5</td><td>1</td><td>1001</td><td>Non/Ac</td><td>3</td><td>../assets/img/rooms/room1whiteice.webp</td><td>750.8</td><td>7</td><td>0</td><td>2023-07-27</td><td>admin</td></tr><tr><td>6</td><td>2</td><td>1001</td><td>Ac</td><td>3</td><td>../assets/img/rooms/room1whiteice.webp</td><td>1500.8</td><td>3</td><td>0</td><td>2023-07-27</td><td>admin</td></tr><tr><td>7</td><td>2</td><td>1001</td><td>Ac</td><td>3</td><td>../assets/img/rooms/room1whiteice.webp</td><td>1500.8</td><td>3</td><td>0</td><td>2023-07-27</td><td>admin</td></tr><tr><td>8</td><td>2</td><td>1001</td><td>Ac</td><td>3</td><td>../assets/img/rooms/room1whiteice.webp</td><td>1500.8</td><td>3</td><td>0</td><td>2023-07-27</td><td>admin</td></tr><tr><td>9</td><td>2</td><td>1001</td><td>Non/Ac</td><td>3</td><td>../assets/img/rooms/room1whiteice.webp</td><td>750.8</td><td>7</td><td>0</td><td>2023-07-27</td><td>admin</td></tr><tr><td>10</td><td>2</td><td>1001</td><td>Non/Ac</td><td>3</td><td>../assets/img/rooms/room1whiteice.webp</td><td>750.8</td><td>7</td><td>0</td><td>2023-07-27</td><td>admin</td></tr><tr><td>11</td><td>3</td><td>1002</td><td>Ac</td><td>3</td><td>../assets/img/rooms/room1whiteice.webp</td><td>1500.8</td><td>3</td><td>0</td><td>2023-07-27</td><td>admin</td></tr><tr><td>12</td><td>3</td><td>1002</td><td>Ac</td><td>3</td><td>../assets/img/rooms/room1whiteice.webp</td><td>1500.8</td><td>3</td><td>0</td><td>2023-07-27</td><td>admin</td></tr><tr><td>13</td><td>3</td><td>1002</td><td>Ac</td><td>3</td><td>../assets/img/rooms/room1whiteice.webp</td><td>1700.8</td><td>5</td><td>0</td><td>2023-07-27</td><td>admin</td></tr><tr><td>14</td><td>3</td><td>1002</td><td>Ac</td><td>3</td><td>../assets/img/rooms/room1whiteice.webp</td><td>1500.8</td><td>3</td><td>0</td><td>2023-07-27</td><td>admin</td></tr><tr><td>15</td><td>3</td><td>1002</td><td>Ac</td><td>3</td><td>../assets/img/rooms/room1whiteice.webp</td><td>1700.8</td><td>5</td><td>0</td><td>2023-07-27</td><td>admin</td></tr><tr><td>16</td><td>4</td><td>1003</td><td>Ac</td><td>3</td><td>../assets/img/rooms/room1whiteice.webp</td><td>1500.8</td><td>3</td><td>0</td><td>2023-07-27</td><td>admin</td></tr><tr><td>17</td><td>4</td><td>1003</td><td>Ac</td><td>3</td><td>../assets/img/rooms/room1whiteice.webp</td><td>1500.8</td><td>3</td><td>0</td><td>2023-07-27</td><td>admin</td></tr><tr><td>18</td><td>4</td><td>1003</td><td>Ac</td><td>3</td><td>../assets/img/rooms/room1whiteice.webp</td><td>1700.8</td><td>5</td><td>0</td><td>2023-07-27</td><td>admin</td></tr><tr><td>19</td><td>4</td><td>1003</td><td>Ac</td><td>3</td><td>../assets/img/rooms/room1whiteice.webp</td><td>1500.8</td><td>3</td><td>0</td><td>2023-07-27</td><td>admin</td></tr><tr><td>20</td><td>4</td><td>1003</td><td>Ac</td><td>3</td><td>../assets/img/rooms/room1whiteice.webp</td><td>1700.8</td><td>5</td><td>0</td><td>2023-07-27</td><td>admin</td></tr><tr><td>21</td><td>5</td><td>1003</td><td>Ac</td><td>3</td><td>../assets/img/rooms/room1whiteice.webp</td><td>1500.8</td><td>3</td><td>0</td><td>2023-07-27</td><td>admin</td></tr><tr><td>22</td><td>5</td><td>1003</td><td>Ac</td><td>3</td><td>../assets/img/rooms/room1whiteice.webp</td><td>1500.8</td><td>3</td><td>0</td><td>2023-07-27</td><td>admin</td></tr><tr><td>23</td><td>5</td><td>1003</td><td>Ac</td><td>3</td><td>../assets/img/rooms/room1whiteice.webp</td><td>1700.8</td><td>5</td><td>0</td><td>2023-07-27</td><td>admin</td></tr><tr><td>24</td><td>6</td><td>1005</td><td>Ac</td><td>3</td><td>../assets/img/rooms/room1whiteice.webp</td><td>1500.8</td><td>3</td><td>0</td><td>2023-07-27</td><td>admin</td></tr><tr><td>25</td><td>6</td><td>1005</td><td>Ac</td><td>3</td><td>../assets/img/rooms/room1whiteice.webp</td><td>1700.8</td><td>5</td><td>0</td><td>2023-07-27</td><td>admin</td></tr><tr><td>26</td><td>7</td><td>1006</td><td>Ac</td><td>3</td><td>../assets/img/rooms/room1whiteice.webp</td><td>1700.8</td><td>5</td><td>0</td><td>2023-07-27</td><td>admin</td></tr><tr><td>27</td><td>7</td><td>1006</td><td>Ac</td><td>3</td><td>../assets/img/rooms/room1whiteice.webp</td><td>1500.8</td><td>3</td><td>0</td><td>2023-07-27</td><td>admin</td></tr><tr><td>28</td><td>7</td><td>1006</td><td>Non/Ac</td><td>3</td><td>../assets/img/rooms/room1whiteice.webp</td><td>750.8</td><td>7</td><td>0</td><td>2023-07-27</td><td>admin</td></tr><tr><td>29</td><td>8</td><td>1006</td><td>Ac</td><td>3</td><td>../assets/img/rooms/room1whiteice.webp</td><td>1500.8</td><td>3</td><td>0</td><td>2023-07-27</td><td>admin</td></tr><tr><td>30</td><td>8</td><td>1006</td><td>Non/Ac</td><td>3</td><td>../assets/img/rooms/room1whiteice.webp</td><td>750.8</td><td>3</td><td>0</td><td>2023-07-27</td><td>admin</td></tr><tr><td>31</td><td>9</td><td>1006</td><td>Ac</td><td>3</td><td>../assets/img/rooms/room1whiteice.webp</td><td>1500.8</td><td>3</td><td>0</td><td>2023-07-27</td><td>admin</td></tr></table>"
                    },
                    "metadata": {}
                }
            ],
            "execution_count": 9
        },
        {
            "cell_type": "code",
            "source": [
                "--- select approval requests newly cvreated by mee\r\n",
                "select * from klr.ApprovalRequests where isClosed=0;"
            ],
            "metadata": {
                "language": "sql",
                "azdata_cell_guid": "94e67c43-016b-4578-b54e-9df9f0cf6857",
                "tags": [
                    "hide_input"
                ]
            },
            "outputs": [
                {
                    "output_type": "display_data",
                    "data": {
                        "text/html": "(2 rows affected)"
                    },
                    "metadata": {}
                },
                {
                    "output_type": "display_data",
                    "data": {
                        "text/html": "Total execution time: 00:00:00.009"
                    },
                    "metadata": {}
                },
                {
                    "output_type": "execute_result",
                    "execution_count": 10,
                    "data": {
                        "application/vnd.dataresource+json": {
                            "schema": {
                                "fields": [
                                    {
                                        "name": "ApprovalId"
                                    },
                                    {
                                        "name": "ProofType"
                                    },
                                    {
                                        "name": "Proof"
                                    },
                                    {
                                        "name": "AttachmentMessage"
                                    },
                                    {
                                        "name": "id"
                                    },
                                    {
                                        "name": "closebyId"
                                    },
                                    {
                                        "name": "isClosed"
                                    },
                                    {
                                        "name": "closedReplay"
                                    },
                                    {
                                        "name": "closedOn"
                                    }
                                ]
                            },
                            "data": [
                                {
                                    "ApprovalId": "1",
                                    "ProofType": "4",
                                    "Proof": "PASSPORT0000",
                                    "AttachmentMessage": "i m real human being to live in chennai.please approve me!",
                                    "id": "1007",
                                    "closebyId": "1000",
                                    "isClosed": "0",
                                    "closedReplay": "NTH",
                                    "closedOn": "2023-07-27"
                                },
                                {
                                    "ApprovalId": "2",
                                    "ProofType": "5",
                                    "Proof": "DRILIC000",
                                    "AttachmentMessage": "i m real human being to live in chennai.please approve me!",
                                    "id": "1006",
                                    "closebyId": "1000",
                                    "isClosed": "0",
                                    "closedReplay": "NTH",
                                    "closedOn": "2023-07-27"
                                }
                            ]
                        },
                        "text/html": "<table><tr><th>ApprovalId</th><th>ProofType</th><th>Proof</th><th>AttachmentMessage</th><th>id</th><th>closebyId</th><th>isClosed</th><th>closedReplay</th><th>closedOn</th></tr><tr><td>1</td><td>4</td><td>PASSPORT0000</td><td>i m real human being to live in chennai.please approve me!</td><td>1007</td><td>1000</td><td>0</td><td>NTH</td><td>2023-07-27</td></tr><tr><td>2</td><td>5</td><td>DRILIC000</td><td>i m real human being to live in chennai.please approve me!</td><td>1006</td><td>1000</td><td>0</td><td>NTH</td><td>2023-07-27</td></tr></table>"
                    },
                    "metadata": {}
                }
            ],
            "execution_count": 10
        },
        {
            "cell_type": "code",
            "source": [
                "--- booking table\r\n",
                "\r\n",
                "select * from klr.BookingLists where BookingisClosed=0 and id=1001\r\n",
                ""
            ],
            "metadata": {
                "language": "sql",
                "azdata_cell_guid": "e30e6615-0648-4876-93f7-524318f84dc2"
            },
            "outputs": [
                {
                    "output_type": "display_data",
                    "data": {
                        "text/html": "(1 row affected)"
                    },
                    "metadata": {}
                },
                {
                    "output_type": "display_data",
                    "data": {
                        "text/html": "Total execution time: 00:00:00.063"
                    },
                    "metadata": {}
                },
                {
                    "output_type": "execute_result",
                    "execution_count": 11,
                    "data": {
                        "application/vnd.dataresource+json": {
                            "schema": {
                                "fields": [
                                    {
                                        "name": "BookingId"
                                    },
                                    {
                                        "name": "id"
                                    },
                                    {
                                        "name": "Hostelid"
                                    },
                                    {
                                        "name": "Roomid"
                                    },
                                    {
                                        "name": "NoOfGuests"
                                    },
                                    {
                                        "name": "BookedDate"
                                    },
                                    {
                                        "name": "BookingFrom"
                                    },
                                    {
                                        "name": "BookingTo"
                                    },
                                    {
                                        "name": "TotalStay"
                                    },
                                    {
                                        "name": "Totalprice"
                                    },
                                    {
                                        "name": "StayDetails"
                                    },
                                    {
                                        "name": "BookingisClosed"
                                    },
                                    {
                                        "name": "Lastmodified"
                                    },
                                    {
                                        "name": "LastmodifiedBy"
                                    }
                                ]
                            },
                            "data": [
                                {
                                    "BookingId": "1",
                                    "id": "1001",
                                    "Hostelid": "2",
                                    "Roomid": "8",
                                    "NoOfGuests": "3",
                                    "BookedDate": "2023-07-27",
                                    "BookingFrom": "2023-07-27",
                                    "BookingTo": "2023-07-30",
                                    "TotalStay": "3",
                                    "Totalprice": "500",
                                    "StayDetails": "0",
                                    "BookingisClosed": "0",
                                    "Lastmodified": "2023-07-27",
                                    "LastmodifiedBy": "-"
                                }
                            ]
                        },
                        "text/html": "<table><tr><th>BookingId</th><th>id</th><th>Hostelid</th><th>Roomid</th><th>NoOfGuests</th><th>BookedDate</th><th>BookingFrom</th><th>BookingTo</th><th>TotalStay</th><th>Totalprice</th><th>StayDetails</th><th>BookingisClosed</th><th>Lastmodified</th><th>LastmodifiedBy</th></tr><tr><td>1</td><td>1001</td><td>2</td><td>8</td><td>3</td><td>2023-07-27</td><td>2023-07-27</td><td>2023-07-30</td><td>3</td><td>500</td><td>0</td><td>0</td><td>2023-07-27</td><td>-</td></tr></table>"
                    },
                    "metadata": {}
                }
            ],
            "execution_count": 11
        }
    ]
}